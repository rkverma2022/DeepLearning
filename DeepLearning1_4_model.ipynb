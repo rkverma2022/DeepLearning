{
  "nbformat": 4,
  "nbformat_minor": 0,
  "metadata": {
    "colab": {
      "provenance": [],
      "authorship_tag": "ABX9TyPsYzrBut9I9aABCmRj1mJm",
      "include_colab_link": true
    },
    "kernelspec": {
      "name": "python3",
      "display_name": "Python 3"
    },
    "language_info": {
      "name": "python"
    }
  },
  "cells": [
    {
      "cell_type": "markdown",
      "metadata": {
        "id": "view-in-github",
        "colab_type": "text"
      },
      "source": [
        "<a href=\"https://colab.research.google.com/github/rkverma2022/DeepLearning/blob/main/DeepLearning1_4_model.ipynb\" target=\"_parent\"><img src=\"https://colab.research.google.com/assets/colab-badge.svg\" alt=\"Open In Colab\"/></a>"
      ]
    },
    {
      "cell_type": "code",
      "execution_count": null,
      "metadata": {
        "id": "BBoi5TNw4END"
      },
      "outputs": [],
      "source": []
    },
    {
      "cell_type": "markdown",
      "source": [
        "#Overview of Creating A model:\n",
        "\n",
        "\n",
        "1.   creating model\n",
        "2.   optimizing of loss function\n",
        "\n",
        "3.   loss\n",
        "\n"
      ],
      "metadata": {
        "id": "otb8enFQ4G7X"
      }
    },
    {
      "cell_type": "code",
      "source": [
        "import tensorflow as tf\n",
        "model = tf.keras.Sequential([])\n",
        "\n",
        "#pic fav optimizer algo\n",
        "optimizer = tf.keras.optimizers.SGD()\n",
        "\n",
        "#run a loop to find global min or to find min loss\n",
        "while True:\n",
        "  prediction = model(x)\n",
        "  with tf.GradientTap() as Tape:\n",
        "    #compute the loss \n",
        "    loss = compute_loss(y, prediction)\n",
        "  #update the weight using gradient\n",
        "  grads = tape.gradient(loss, model.trainable_variables)\n",
        "  optimizer.apply_gradients(zip(grads, model.trainable_varibales))"
      ],
      "metadata": {
        "id": "9xQdYPT24bTK"
      },
      "execution_count": null,
      "outputs": []
    }
  ]
}