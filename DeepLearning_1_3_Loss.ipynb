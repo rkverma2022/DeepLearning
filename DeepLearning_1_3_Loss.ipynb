{
  "nbformat": 4,
  "nbformat_minor": 0,
  "metadata": {
    "colab": {
      "provenance": [],
      "authorship_tag": "ABX9TyOC6PlKP3l3EmMvbnYiApjr",
      "include_colab_link": true
    },
    "kernelspec": {
      "name": "python3",
      "display_name": "Python 3"
    },
    "language_info": {
      "name": "python"
    }
  },
  "cells": [
    {
      "cell_type": "markdown",
      "metadata": {
        "id": "view-in-github",
        "colab_type": "text"
      },
      "source": [
        "<a href=\"https://colab.research.google.com/github/rkverma2022/DeepLearning/blob/main/DeepLearning_1_3_Loss.ipynb\" target=\"_parent\"><img src=\"https://colab.research.google.com/assets/colab-badge.svg\" alt=\"Open In Colab\"/></a>"
      ]
    },
    {
      "cell_type": "markdown",
      "source": [
        "#Loss = Predicted O/P - Actual\n",
        "**We have the following ways to calculate loss**\n",
        "*Note* : our goal is to minimize the loss\n",
        "\n",
        "1.   Quantified Loss: L(f(x,w), y)\n",
        "2.  Empirical Loss: j(w) = average of L( f(x,w), y)\n",
        "\n",
        "3. Binary Cross Entropy loss:\n",
        "4. Mean Square Error Loss: MSE\n",
        "# 5. Loss Optimization: Gradient Descent\n",
        "\n"
      ],
      "metadata": {
        "id": "TyVdQIdm10au"
      }
    },
    {
      "cell_type": "markdown",
      "source": [
        "**3. Binary Cross Entropy Loss: **"
      ],
      "metadata": {
        "id": "v970GLtn19N_"
      }
    },
    {
      "cell_type": "code",
      "source": [
        "import tensorflow as tf\n",
        "y = 5; \n",
        "loss = tf.reduce_mean(tf.nn.sparse_softmax_cross_entropy_with_logits(y, predicted))\n",
        "print(loss)"
      ],
      "metadata": {
        "id": "1pJido_914pj"
      },
      "execution_count": null,
      "outputs": []
    },
    {
      "cell_type": "markdown",
      "source": [
        "**2. Mean Square Error Loss**"
      ],
      "metadata": {
        "id": "4SrvOj1Q2FHK"
      }
    },
    {
      "cell_type": "code",
      "source": [
        "loss = tf.reduce_mean(tf.square(tf.subtract(y, predicted)))\n",
        "loss = tf.keras.losses.MSE(y, predicted)"
      ],
      "metadata": {
        "id": "I44hXD2P2CBp"
      },
      "execution_count": null,
      "outputs": []
    },
    {
      "cell_type": "markdown",
      "source": [
        "# 5. *Loss Optimization* Gradient Descent\n",
        "*Goal: To find the weight that achieve the lowest loss*\n",
        "\n",
        "*Algorithm Steps*\n",
        "1.   Initialize weight randomly ~N(0, var)\n",
        "2.   Loop untill convergence\n",
        "3.   Compute Gradient, \n",
        "4.   Update weight: W = W - n*grad()\n",
        "5.   return weight\n",
        "\n"
      ],
      "metadata": {
        "id": "yKWr0urU2JAQ"
      }
    },
    {
      "cell_type": "code",
      "source": [
        "from tensorflow.python.ops.nn_impl import compute_average_loss\n",
        "import tensorflow as tf\n",
        "weights = tf.Variable([tf.random.normal()])  #taking random weight\n",
        "while True:\n",
        "  with tf.GradientTape() as g:\n",
        "    loss = compute_average_loss(weights)\n",
        "    gradient = g.gradient(loss, weights)\n",
        "  weights = weights - lr*gradient\n"
      ],
      "metadata": {
        "id": "ebpuEB-e2L99"
      },
      "execution_count": null,
      "outputs": []
    }
  ]
}