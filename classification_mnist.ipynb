{
 "cells": [
  {
   "cell_type": "code",
   "execution_count": 19,
   "metadata": {},
   "outputs": [],
   "source": [
    "import tensorflow as tf \n",
    "import numpy as np"
   ]
  },
  {
   "cell_type": "code",
   "execution_count": 20,
   "metadata": {},
   "outputs": [],
   "source": [
    "model = tf.keras.Sequential([\n",
    "    tf.keras.layers.Conv2D(filters=64, kernel_size=(3,3), input_shape=(28,28,1), activation=tf.nn.relu),\n",
    "    tf.keras.layers.MaxPool2D(pool_size=(2,2)),\n",
    "    tf.keras.layers.Conv2D(filters=64, kernel_size=(3,3), activation=tf.nn.relu) , \n",
    "    tf.keras.layers.Flatten(),\n",
    "    tf.keras.layers.Dense(20, activation=tf.nn.relu),\n",
    "    tf.keras.layers.Dense(10, activation=tf.nn.softmax)\n",
    "])\n",
    "model.compile(optimizer=\"adam\", loss='sparse_categorical_crossentropy', metrics='accuracy')"
   ]
  },
  {
   "cell_type": "code",
   "execution_count": 21,
   "metadata": {},
   "outputs": [],
   "source": [
    "data = tf.keras.datasets.mnist\n",
    "(training_images, training_labels), (val_images, val_labels) = data.load_data()"
   ]
  },
  {
   "cell_type": "code",
   "execution_count": 22,
   "metadata": {},
   "outputs": [],
   "source": [
    "training_images = training_images/255\n",
    "val_images = val_images/255"
   ]
  },
  {
   "cell_type": "code",
   "execution_count": 23,
   "metadata": {},
   "outputs": [
    {
     "data": {
      "text/plain": [
       "(60000, 28, 28)"
      ]
     },
     "execution_count": 23,
     "metadata": {},
     "output_type": "execute_result"
    }
   ],
   "source": [
    "training_images.shape"
   ]
  },
  {
   "cell_type": "code",
   "execution_count": 24,
   "metadata": {},
   "outputs": [
    {
     "data": {
      "text/plain": [
       "(10000, 28, 28)"
      ]
     },
     "execution_count": 24,
     "metadata": {},
     "output_type": "execute_result"
    }
   ],
   "source": [
    "val_images.shape"
   ]
  },
  {
   "cell_type": "code",
   "execution_count": 25,
   "metadata": {},
   "outputs": [
    {
     "name": "stdout",
     "output_type": "stream",
     "text": [
      "Epoch 1/20\n",
      "1875/1875 [==============================] - 73s 38ms/step - loss: 0.1568 - accuracy: 0.9524 - val_loss: 0.0530 - val_accuracy: 0.9835\n",
      "Epoch 2/20\n",
      "1875/1875 [==============================] - 88s 47ms/step - loss: 0.0473 - accuracy: 0.9858 - val_loss: 0.0382 - val_accuracy: 0.9876\n",
      "Epoch 3/20\n",
      "1875/1875 [==============================] - 73s 39ms/step - loss: 0.0325 - accuracy: 0.9899 - val_loss: 0.0566 - val_accuracy: 0.9833\n",
      "Epoch 4/20\n",
      "1875/1875 [==============================] - 84s 45ms/step - loss: 0.0246 - accuracy: 0.9918 - val_loss: 0.0357 - val_accuracy: 0.9883\n",
      "Epoch 5/20\n",
      "1875/1875 [==============================] - 103s 55ms/step - loss: 0.0189 - accuracy: 0.9937 - val_loss: 0.0355 - val_accuracy: 0.9886\n",
      "Epoch 6/20\n",
      "1875/1875 [==============================] - 72s 38ms/step - loss: 0.0153 - accuracy: 0.9952 - val_loss: 0.0414 - val_accuracy: 0.9878\n",
      "Epoch 7/20\n",
      "1875/1875 [==============================] - 77s 41ms/step - loss: 0.0115 - accuracy: 0.9963 - val_loss: 0.0501 - val_accuracy: 0.9875\n",
      "Epoch 8/20\n",
      "1875/1875 [==============================] - 72s 38ms/step - loss: 0.0095 - accuracy: 0.9970 - val_loss: 0.0363 - val_accuracy: 0.9900\n",
      "Epoch 9/20\n",
      "1875/1875 [==============================] - 73s 39ms/step - loss: 0.0079 - accuracy: 0.9972 - val_loss: 0.0480 - val_accuracy: 0.9886\n",
      "Epoch 10/20\n",
      "1875/1875 [==============================] - 74s 39ms/step - loss: 0.0074 - accuracy: 0.9976 - val_loss: 0.0577 - val_accuracy: 0.9866\n",
      "Epoch 11/20\n",
      "1875/1875 [==============================] - 77s 41ms/step - loss: 0.0064 - accuracy: 0.9979 - val_loss: 0.0541 - val_accuracy: 0.9882\n",
      "Epoch 12/20\n",
      "1875/1875 [==============================] - 77s 41ms/step - loss: 0.0045 - accuracy: 0.9984 - val_loss: 0.0541 - val_accuracy: 0.9901\n",
      "Epoch 13/20\n",
      "1875/1875 [==============================] - 77s 41ms/step - loss: 0.0052 - accuracy: 0.9982 - val_loss: 0.0544 - val_accuracy: 0.9901\n",
      "Epoch 14/20\n",
      "1875/1875 [==============================] - 77s 41ms/step - loss: 0.0054 - accuracy: 0.9982 - val_loss: 0.0595 - val_accuracy: 0.9878\n",
      "Epoch 15/20\n",
      "1875/1875 [==============================] - 77s 41ms/step - loss: 0.0056 - accuracy: 0.9982 - val_loss: 0.0541 - val_accuracy: 0.9891\n",
      "Epoch 16/20\n",
      "1875/1875 [==============================] - 83s 44ms/step - loss: 0.0036 - accuracy: 0.9989 - val_loss: 0.0442 - val_accuracy: 0.9912\n",
      "Epoch 17/20\n",
      "1875/1875 [==============================] - 83s 44ms/step - loss: 0.0047 - accuracy: 0.9985 - val_loss: 0.0532 - val_accuracy: 0.9904\n",
      "Epoch 18/20\n",
      "1875/1875 [==============================] - 86s 46ms/step - loss: 0.0039 - accuracy: 0.9986 - val_loss: 0.0646 - val_accuracy: 0.9891\n",
      "Epoch 19/20\n",
      "1875/1875 [==============================] - 74s 39ms/step - loss: 0.0043 - accuracy: 0.9987 - val_loss: 0.0659 - val_accuracy: 0.9887\n",
      "Epoch 20/20\n",
      "1875/1875 [==============================] - 74s 40ms/step - loss: 0.0034 - accuracy: 0.9988 - val_loss: 0.0592 - val_accuracy: 0.9903\n"
     ]
    }
   ],
   "source": [
    "history = model.fit(x=training_images, y=training_labels, validation_data=(val_images, val_labels), epochs=20)"
   ]
  },
  {
   "cell_type": "code",
   "execution_count": 32,
   "metadata": {},
   "outputs": [
    {
     "data": {
      "text/plain": [
       "{'loss': [0.1567811667919159,\n",
       "  0.04731118679046631,\n",
       "  0.03254188224673271,\n",
       "  0.024615976959466934,\n",
       "  0.018941935151815414,\n",
       "  0.015295086428523064,\n",
       "  0.01148887537419796,\n",
       "  0.009532708674669266,\n",
       "  0.007937251590192318,\n",
       "  0.007386405486613512,\n",
       "  0.006429103668779135,\n",
       "  0.004454490263015032,\n",
       "  0.005230093840509653,\n",
       "  0.005432274658232927,\n",
       "  0.00564621901139617,\n",
       "  0.0035697848070412874,\n",
       "  0.004699871875345707,\n",
       "  0.003851172048598528,\n",
       "  0.004256728570908308,\n",
       "  0.003426559967920184],\n",
       " 'accuracy': [0.9524499773979187,\n",
       "  0.9857500195503235,\n",
       "  0.9898666739463806,\n",
       "  0.9918000102043152,\n",
       "  0.9937166571617126,\n",
       "  0.995199978351593,\n",
       "  0.9962999820709229,\n",
       "  0.9970333576202393,\n",
       "  0.9972166419029236,\n",
       "  0.9976333379745483,\n",
       "  0.9979000091552734,\n",
       "  0.9983833432197571,\n",
       "  0.9982333183288574,\n",
       "  0.9982333183288574,\n",
       "  0.9982333183288574,\n",
       "  0.9989333152770996,\n",
       "  0.998533308506012,\n",
       "  0.9986000061035156,\n",
       "  0.9987000226974487,\n",
       "  0.9987833499908447],\n",
       " 'val_loss': [0.053008537739515305,\n",
       "  0.038248054683208466,\n",
       "  0.05656066909432411,\n",
       "  0.03570891544222832,\n",
       "  0.03550092130899429,\n",
       "  0.041435886174440384,\n",
       "  0.05014925077557564,\n",
       "  0.03628130257129669,\n",
       "  0.04797932878136635,\n",
       "  0.05765670910477638,\n",
       "  0.05411551520228386,\n",
       "  0.05414658039808273,\n",
       "  0.05438540503382683,\n",
       "  0.059488099068403244,\n",
       "  0.05413993075489998,\n",
       "  0.04423275589942932,\n",
       "  0.0531654916703701,\n",
       "  0.06455618888139725,\n",
       "  0.06586413085460663,\n",
       "  0.05916756018996239],\n",
       " 'val_accuracy': [0.9835000038146973,\n",
       "  0.9876000285148621,\n",
       "  0.983299970626831,\n",
       "  0.9883000254631042,\n",
       "  0.9886000156402588,\n",
       "  0.9878000020980835,\n",
       "  0.987500011920929,\n",
       "  0.9900000095367432,\n",
       "  0.9886000156402588,\n",
       "  0.9865999817848206,\n",
       "  0.9882000088691711,\n",
       "  0.9901000261306763,\n",
       "  0.9901000261306763,\n",
       "  0.9878000020980835,\n",
       "  0.9890999794006348,\n",
       "  0.9911999702453613,\n",
       "  0.9904000163078308,\n",
       "  0.9890999794006348,\n",
       "  0.9886999726295471,\n",
       "  0.9902999997138977]}"
      ]
     },
     "execution_count": 32,
     "metadata": {},
     "output_type": "execute_result"
    }
   ],
   "source": [
    "history.history"
   ]
  },
  {
   "cell_type": "code",
   "execution_count": 33,
   "metadata": {},
   "outputs": [
    {
     "name": "stdout",
     "output_type": "stream",
     "text": [
      "Model: \"sequential_3\"\n",
      "_________________________________________________________________\n",
      " Layer (type)                Output Shape              Param #   \n",
      "=================================================================\n",
      " conv2d_6 (Conv2D)           (None, 26, 26, 64)        640       \n",
      "                                                                 \n",
      " max_pooling2d_3 (MaxPooling  (None, 13, 13, 64)       0         \n",
      " 2D)                                                             \n",
      "                                                                 \n",
      " conv2d_7 (Conv2D)           (None, 11, 11, 64)        36928     \n",
      "                                                                 \n",
      " flatten_3 (Flatten)         (None, 7744)              0         \n",
      "                                                                 \n",
      " dense_6 (Dense)             (None, 20)                154900    \n",
      "                                                                 \n",
      " dense_7 (Dense)             (None, 10)                210       \n",
      "                                                                 \n",
      "=================================================================\n",
      "Total params: 192,678\n",
      "Trainable params: 192,678\n",
      "Non-trainable params: 0\n",
      "_________________________________________________________________\n"
     ]
    }
   ],
   "source": [
    "model.summary()"
   ]
  },
  {
   "cell_type": "code",
   "execution_count": 34,
   "metadata": {},
   "outputs": [
    {
     "name": "stdout",
     "output_type": "stream",
     "text": [
      "313/313 [==============================] - 4s 12ms/step - loss: 0.0592 - accuracy: 0.9903\n"
     ]
    },
    {
     "data": {
      "text/plain": [
       "[0.05916756018996239, 0.9902999997138977]"
      ]
     },
     "execution_count": 34,
     "metadata": {},
     "output_type": "execute_result"
    }
   ],
   "source": [
    "model.evaluate(x=val_images, y=val_labels)"
   ]
  },
  {
   "cell_type": "code",
   "execution_count": 35,
   "metadata": {},
   "outputs": [
    {
     "name": "stdout",
     "output_type": "stream",
     "text": [
      "313/313 [==============================] - 3s 11ms/step\n"
     ]
    }
   ],
   "source": [
    "predict = model.predict(val_images)"
   ]
  },
  {
   "cell_type": "code",
   "execution_count": 36,
   "metadata": {},
   "outputs": [
    {
     "data": {
      "text/plain": [
       "array([8.2794301e-21, 3.0080756e-20, 9.8664970e-18, 1.7906357e-12,\n",
       "       3.5011168e-23, 8.6540874e-22, 1.1732119e-28, 1.0000000e+00,\n",
       "       1.1840915e-15, 3.7021564e-20], dtype=float32)"
      ]
     },
     "execution_count": 36,
     "metadata": {},
     "output_type": "execute_result"
    }
   ],
   "source": [
    "predict[0]"
   ]
  },
  {
   "cell_type": "code",
   "execution_count": null,
   "metadata": {},
   "outputs": [],
   "source": []
  }
 ],
 "metadata": {
  "kernelspec": {
   "display_name": "Python 3",
   "language": "python",
   "name": "python3"
  },
  "language_info": {
   "codemirror_mode": {
    "name": "ipython",
    "version": 3
   },
   "file_extension": ".py",
   "mimetype": "text/x-python",
   "name": "python",
   "nbconvert_exporter": "python",
   "pygments_lexer": "ipython3",
   "version": "3.11.1"
  },
  "orig_nbformat": 4
 },
 "nbformat": 4,
 "nbformat_minor": 2
}
